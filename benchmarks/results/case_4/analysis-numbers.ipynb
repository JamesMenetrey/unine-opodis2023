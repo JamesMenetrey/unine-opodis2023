{
 "cells": [
  {
   "cell_type": "code",
   "execution_count": null,
   "metadata": {},
   "outputs": [],
   "source": [
    "import pandas as pd"
   ]
  },
  {
   "cell_type": "code",
   "execution_count": null,
   "metadata": {},
   "outputs": [],
   "source": [
    "exports_to_analyze = ['grassen-1']\n",
    "all_df = pd.DataFrame()\n",
    "\n",
    "# Load the data\n",
    "for export in exports_to_analyze:\n",
    "    filename = 'export/' + export + '/latency_per_publishers.csv'\n",
    "    df = pd.read_csv(filename, sep=',', index_col=0)\n",
    "    all_df = pd.concat([all_df, df])"
   ]
  },
  {
   "cell_type": "code",
   "execution_count": null,
   "metadata": {},
   "outputs": [],
   "source": [
    "threshold = 25\n",
    "\n",
    "# Filter out the data\n",
    "all_df = all_df[all_df['nb_publishers'] <= threshold]\n",
    "\n",
    "df = all_df.groupby('case').mean()\n",
    "# calculate the overhead against native\n",
    "df['overhead_against_native'] = (df['latency']) / df.loc['native-tls', 'latency']\n",
    "df['overhead_against_wasm'] = (df['latency']) / df.loc['wasm-tls', 'latency']\n",
    "\n",
    "# round the overhead values to 2 digits\n",
    "df['overhead_against_native'] = df['overhead_against_native'].round(2)\n",
    "df['overhead_against_wasm'] = df['overhead_against_wasm'].round(2)\n",
    "df"
   ]
  },
  {
   "cell_type": "code",
   "execution_count": null,
   "metadata": {},
   "outputs": [],
   "source": [
    "message_df = pd.read_csv('export/' + exports_to_analyze[0] + '/message_latency.csv', sep=',', index_col=0)\n",
    "# get unique values for 'case' column\n",
    "cases = ['native-tls', 'wasm-tls', 'sgx-tls']\n",
    "message_df = message_df.drop(columns=['timestamp_receive', 'timestamp_send'])\n",
    "# get unique values for 'nb_publishers' column\n",
    "nb_publishers = message_df['nb_publishers'].unique()\n",
    "\n",
    "for case in cases:\n",
    "    export_key_values = pd.DataFrame()\n",
    "    export_outliers = pd.DataFrame()\n",
    "    for nb_publisher in nb_publishers:\n",
    "        df = message_df[(message_df['case'] == case) & (message_df['nb_publishers'] == nb_publisher)]\n",
    "        df = df.rename(columns={'latency': nb_publisher})\n",
    "        df = df.drop(columns=['case', 'nb_publishers'])\n",
    "\n",
    "        export = pd.DataFrame()\n",
    "        export['q1'] = df.quantile(0.25)\n",
    "        export['q2'] = df.median()\n",
    "        export['q3'] = df.quantile(0.75)\n",
    "        iqr = export['q3'] - export['q1']\n",
    "        export['lower_whisker'] = max(df.min()[0], (export['q1'] - 1.5 * iqr)[0])\n",
    "        export['upper_whisker'] = min(df.max()[0], (export['q3'] + 1.5 * iqr)[0])\n",
    "        export['max'] = df.max()\n",
    "        export['min'] = df.min()\n",
    "\n",
    "        export = export.reset_index()\n",
    "        export = export.rename(columns={'index': 'nb_publishers'})\n",
    "\n",
    "        # get outliers\n",
    "        outliers = df[(df < export['lower_whisker'][0]) | (df > export['upper_whisker'][0])].dropna().reset_index(drop=True)\n",
    "        export = export.reset_index(drop=True)\n",
    "        export_outliers = pd.concat([export_outliers, outliers], axis=1)\n",
    "\n",
    "        export_key_values = pd.concat([export_key_values, export])\n",
    "\n",
    "\n",
    "    export_key_values.to_csv('export/' + exports_to_analyze[0] + '/message_latency_' + str(case) + '.csv')\n",
    "    export_outliers.to_csv('export/' + exports_to_analyze[0] + '/message_latency_outliers_' + str(case) + '.csv')\n"
   ]
  },
  {
   "cell_type": "markdown",
   "metadata": {},
   "source": []
  }
 ],
 "metadata": {
  "kernelspec": {
   "display_name": "Python 3",
   "language": "python",
   "name": "python3"
  },
  "language_info": {
   "codemirror_mode": {
    "name": "ipython",
    "version": 3
   },
   "file_extension": ".py",
   "mimetype": "text/x-python",
   "name": "python",
   "nbconvert_exporter": "python",
   "pygments_lexer": "ipython3",
   "version": "3.6.9"
  }
 },
 "nbformat": 4,
 "nbformat_minor": 4
}
