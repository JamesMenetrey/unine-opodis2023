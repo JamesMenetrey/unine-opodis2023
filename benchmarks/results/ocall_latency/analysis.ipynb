{
 "cells": [
  {
   "cell_type": "code",
   "execution_count": 1,
   "metadata": {},
   "outputs": [],
   "source": [
    "import pandas as pd"
   ]
  },
  {
   "cell_type": "code",
   "execution_count": 7,
   "metadata": {},
   "outputs": [
    {
     "name": "stdout",
     "output_type": "stream",
     "text": [
      "       0\n",
      "0   5501\n",
      "1   5201\n",
      "2   5288\n",
      "3  22040\n",
      "4  22127\n"
     ]
    },
    {
     "data": {
      "text/plain": [
       "0.022"
      ]
     },
     "execution_count": 7,
     "metadata": {},
     "output_type": "execute_result"
    }
   ],
   "source": [
    "df = pd.read_csv('ocall_latency.csv', header=None)\n",
    "print(df.head())\n",
    "df.columns = ['latency_ns']\n",
    "df['latency_ms'] = df['latency_ns'] / 10 ** 6\n",
    "df['latency_ms'].mean().round(3)\n"
   ]
  }
 ],
 "metadata": {
  "kernelspec": {
   "display_name": "Python 3",
   "language": "python",
   "name": "python3"
  },
  "language_info": {
   "codemirror_mode": {
    "name": "ipython",
    "version": 3
   },
   "file_extension": ".py",
   "mimetype": "text/x-python",
   "name": "python",
   "nbconvert_exporter": "python",
   "pygments_lexer": "ipython3",
   "version": "3.6.9"
  },
  "orig_nbformat": 4
 },
 "nbformat": 4,
 "nbformat_minor": 2
}
