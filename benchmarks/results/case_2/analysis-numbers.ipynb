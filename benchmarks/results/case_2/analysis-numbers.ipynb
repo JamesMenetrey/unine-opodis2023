{
 "cells": [
  {
   "cell_type": "code",
   "execution_count": null,
   "metadata": {},
   "outputs": [],
   "source": [
    "import pandas as pd"
   ]
  },
  {
   "cell_type": "code",
   "execution_count": null,
   "metadata": {},
   "outputs": [],
   "source": [
    "exports_to_analyze = ['grassen-1']\n",
    "all_df = pd.DataFrame()\n",
    "\n",
    "# Load the data\n",
    "for export in exports_to_analyze:\n",
    "    filename = 'export/' + export + '/latency_per_rate.csv'\n",
    "    df = pd.read_csv(filename, sep=',', index_col=0)\n",
    "    all_df = pd.concat([all_df, df])"
   ]
  },
  {
   "cell_type": "code",
   "execution_count": null,
   "metadata": {},
   "outputs": [],
   "source": [
    "threshold = 40\n",
    "\n",
    "# Filter out the data\n",
    "#all_df = all_df[all_df['message_rate'] <= threshold]\n",
    "\n",
    "df = all_df.groupby('case').mean()\n",
    "# calculate the overhead against native\n",
    "df['overhead_against_native'] = (df['latency']) / df.loc['native-tls', 'latency']\n",
    "\n",
    "# round the overhead values to 2 digits\n",
    "df['overhead_against_native'] = df['overhead_against_native'].round(2)\n",
    "df"
   ]
  }
 ],
 "metadata": {
  "kernelspec": {
   "display_name": "Python 3",
   "language": "python",
   "name": "python3"
  },
  "language_info": {
   "codemirror_mode": {
    "name": "ipython",
    "version": 3
   },
   "file_extension": ".py",
   "mimetype": "text/x-python",
   "name": "python",
   "nbconvert_exporter": "python",
   "pygments_lexer": "ipython3",
   "version": "3.6.9"
  }
 },
 "nbformat": 4,
 "nbformat_minor": 4
}
