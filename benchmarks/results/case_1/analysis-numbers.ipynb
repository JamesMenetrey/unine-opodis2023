{
 "cells": [
  {
   "cell_type": "code",
   "execution_count": null,
   "metadata": {},
   "outputs": [],
   "source": [
    "import pandas as pd"
   ]
  },
  {
   "cell_type": "code",
   "execution_count": null,
   "metadata": {},
   "outputs": [],
   "source": [
    "exports_to_analyze = ['grassen-1', 'grassen-1-psk', 'grassen-1-peer-ra']\n",
    "all_df = pd.DataFrame()\n",
    "\n",
    "# Load the data\n",
    "for export in exports_to_analyze:\n",
    "    filename = 'export/' + export + '/latency_per_conn_s.csv'\n",
    "    df = pd.read_csv(filename, sep=',', index_col=0)\n",
    "    if(export == 'grassen-1-psk'):\n",
    "        df['case'] = df['case'] + '-psk'\n",
    "    all_df = pd.concat([all_df, df])"
   ]
  },
  {
   "cell_type": "code",
   "execution_count": null,
   "metadata": {},
   "outputs": [],
   "source": [
    "threshold = 15\n",
    "\n",
    "# Filter out the data\n",
    "all_df = all_df[all_df['conn_s'] <= threshold]\n",
    "\n",
    "df = all_df.groupby('case').mean()\n",
    "# calculate the overhead against native\n",
    "df['overhead_against_native'] = (df['latency']) / df.loc['native-tls', 'latency']\n",
    "df['overhead_against_sgx'] = (df['latency']) / df.loc['sgx-tls', 'latency']\n",
    "df['overhead_against_sgx-psk'] = (df['latency']) / df.loc['sgx-tls-psk', 'latency']\n",
    "\n",
    "# round the overhead values to 2 digits\n",
    "df['overhead_against_native'] = df['overhead_against_native'].round(2)\n",
    "df['overhead_against_sgx'] = df['overhead_against_sgx'].round(2)\n",
    "df['overhead_against_sgx-psk'] = df['overhead_against_sgx-psk'].round(2)\n",
    "df"
   ]
  }
 ],
 "metadata": {
  "kernelspec": {
   "display_name": "Python 3",
   "language": "python",
   "name": "python3"
  },
  "language_info": {
   "codemirror_mode": {
    "name": "ipython",
    "version": 3
   },
   "file_extension": ".py",
   "mimetype": "text/x-python",
   "name": "python",
   "nbconvert_exporter": "python",
   "pygments_lexer": "ipython3",
   "version": "3.6.9"
  }
 },
 "nbformat": 4,
 "nbformat_minor": 4
}
